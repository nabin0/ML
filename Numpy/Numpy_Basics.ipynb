{
 "cells": [
  {
   "cell_type": "markdown",
   "id": "895e2bbf",
   "metadata": {},
   "source": [
    "# Numpy Basic Docs"
   ]
  },
  {
   "cell_type": "markdown",
   "id": "e513fb7c",
   "metadata": {},
   "source": [
    "### Import Package to use"
   ]
  },
  {
   "cell_type": "code",
   "execution_count": 1,
   "id": "30fe05f7",
   "metadata": {},
   "outputs": [],
   "source": [
    "import numpy as np"
   ]
  },
  {
   "cell_type": "markdown",
   "id": "dd7435cb",
   "metadata": {},
   "source": [
    "### Numpy version"
   ]
  },
  {
   "cell_type": "code",
   "execution_count": 2,
   "id": "661fe89a",
   "metadata": {},
   "outputs": [
    {
     "data": {
      "text/plain": [
       "'1.19.5'"
      ]
     },
     "execution_count": 2,
     "metadata": {},
     "output_type": "execute_result"
    }
   ],
   "source": [
    "np.__version__"
   ]
  },
  {
   "cell_type": "markdown",
   "id": "670970d2",
   "metadata": {},
   "source": [
    "## Array in numpy"
   ]
  },
  {
   "cell_type": "code",
   "execution_count": 3,
   "id": "86b01a45",
   "metadata": {},
   "outputs": [
    {
     "name": "stdout",
     "output_type": "stream",
     "text": [
      "[  12   32 4234 4543]\n"
     ]
    },
    {
     "data": {
      "text/plain": [
       "numpy.ndarray"
      ]
     },
     "execution_count": 3,
     "metadata": {},
     "output_type": "execute_result"
    }
   ],
   "source": [
    "arr = np.array([12,32,4234,4543])\n",
    "print(arr)\n",
    "type(arr)"
   ]
  },
  {
   "cell_type": "markdown",
   "id": "907acbfb",
   "metadata": {},
   "source": [
    "### n-dimensional array"
   ]
  },
  {
   "cell_type": "code",
   "execution_count": 4,
   "id": "cbca26d5",
   "metadata": {},
   "outputs": [
    {
     "name": "stdout",
     "output_type": "stream",
     "text": [
      "[[[[ 12  32  24 665]]]]\n",
      "Dimension 4\n",
      "Dimension of arr_3 is  3\n"
     ]
    }
   ],
   "source": [
    "a = np.array([12,32,24,665], ndmin=4) #4 dimensional array\n",
    "print(a)\n",
    "print(\"Dimension\",a.ndim) #.ndim is used to see dimension of array\n",
    "\n",
    "arr_3 = np.array([[[12,32], [212,54]]])\n",
    "print(\"Dimension of arr_3 is \", arr_3.ndim)"
   ]
  },
  {
   "cell_type": "markdown",
   "id": "81def059",
   "metadata": {},
   "source": [
    "## Indexing and slicing of nparray"
   ]
  },
  {
   "cell_type": "code",
   "execution_count": 5,
   "id": "4865d300",
   "metadata": {},
   "outputs": [
    {
     "name": "stdout",
     "output_type": "stream",
     "text": [
      "[  12   32 4234 4543]\n",
      "Indexing\n",
      "12\n",
      "32\n",
      "4234\n",
      "4543\n",
      "The sum is : 44\n",
      "\n",
      "Slicing\n",
      "[  12   32 4234 4543]\n",
      "[12 32]\n",
      "[  12   32 4234 4543]\n",
      "[  12   32 4234 4543]\n",
      "[4543 4234   32   12]\n",
      "[  12 4234]\n"
     ]
    }
   ],
   "source": [
    "# Array indexing and slicing is same as in python arrays\n",
    "print(arr)\n",
    "print(\"Indexing\")\n",
    "print(arr[0])\n",
    "print(arr[1])\n",
    "print(arr[2])\n",
    "print(arr[3])\n",
    "print(\"The sum is :\", arr[0] + arr[1])\n",
    "\n",
    "print(\"\\nSlicing\")\n",
    "print(arr[:])\n",
    "print(arr[0:2])\n",
    "print(arr[0:])\n",
    "print(arr[:4])\n",
    "print(arr[::-1])\n",
    "print(arr[::2])"
   ]
  },
  {
   "cell_type": "markdown",
   "id": "221fba32",
   "metadata": {},
   "source": [
    "## More on ndarray"
   ]
  },
  {
   "cell_type": "code",
   "execution_count": 6,
   "id": "58f8223d",
   "metadata": {},
   "outputs": [
    {
     "name": "stdout",
     "output_type": "stream",
     "text": [
      "one dimensional array\n",
      "(6,)\n",
      "1\n",
      "6\n",
      "<class 'numpy.ndarray'>\n",
      "int32\n",
      "<class 'numpy.int32'>\n",
      "4\n",
      "<memory at 0x000001CAAFEE0400>\n",
      "\n",
      "Two dimensional array\n",
      "(3, 2)\n",
      "2\n",
      "6\n",
      "<class 'numpy.ndarray'>\n",
      "int32\n",
      "<class 'numpy.int32'>\n",
      "4\n",
      "<memory at 0x000001CAC82B06C0>\n"
     ]
    }
   ],
   "source": [
    "foo = np.array([12,33,54,556,73,29]) #one dimensional array\n",
    "print(\"one dimensional array\")\n",
    "print(foo.shape)\n",
    "print(foo.ndim)\n",
    "print(foo.size) \n",
    "print(type(foo))\n",
    "print(foo.dtype)\n",
    "print(foo.dtype.type) #Type of array\n",
    "print(foo.itemsize) #Data tyooe size of array\n",
    "print(foo.data)\n",
    "\n",
    "\n",
    "# Two dimensional array\n",
    "print(\"\\nTwo dimensional array\")\n",
    "foo2 = np.array([[12,32],[121,322],[123,54]])\n",
    "print(foo2.shape)\n",
    "print(foo2.ndim)\n",
    "print(foo2.size) \n",
    "print(type(foo2))\n",
    "print(foo2.dtype)\n",
    "print(foo2.dtype.type) #Type of array\n",
    "print(foo2.itemsize) #Data tyooe size of array\n",
    "print(foo2.data)"
   ]
  },
  {
   "cell_type": "markdown",
   "id": "be8fbe27",
   "metadata": {},
   "source": [
    "## Creation of ndarray"
   ]
  },
  {
   "cell_type": "code",
   "execution_count": 7,
   "id": "740de32c",
   "metadata": {},
   "outputs": [
    {
     "data": {
      "text/plain": [
       "array([1., 2., 3., 4., 5.])"
      ]
     },
     "execution_count": 7,
     "metadata": {},
     "output_type": "execute_result"
    }
   ],
   "source": [
    "arr = np.array([1,2,3,4,5], dtype=float) #Dtype defines the type of array\n",
    "arr.dtype #Datatype of an array\n",
    "arr "
   ]
  },
  {
   "cell_type": "code",
   "execution_count": 8,
   "id": "bf49cbb7",
   "metadata": {},
   "outputs": [
    {
     "data": {
      "text/plain": [
       "array([[[1., 1., 1., 1., 1.],\n",
       "        [1., 1., 1., 1., 1.]],\n",
       "\n",
       "       [[1., 1., 1., 1., 1.],\n",
       "        [1., 1., 1., 1., 1.]]])"
      ]
     },
     "execution_count": 8,
     "metadata": {},
     "output_type": "execute_result"
    }
   ],
   "source": [
    "# Zeros array \n",
    "arr = np.zeros(5) #Creates array with given shape and initializes elaments with float 0\n",
    "arr = np.zeros((2,2)) #Two dimensional array\n",
    "arr = np.zeros((2,2,5)) #Three dimensional arr\n",
    "\n",
    "# Ones array\n",
    "arr = np.ones(5) #Creates array with given shape and initializes elaments with float 1\n",
    "arr = np.ones((2,2)) #Two dimensional array\n",
    "arr = np.ones((2,2,5)) #Three dimensional arr\n",
    "\n",
    "# Empty arrays\n",
    "arr = np.empty(5) #Creates array with given shape and initializes elaments with garbage value\n",
    "arr = np.empty((2,2)) #Two dimensional array\n",
    "arr = np.empty((2,2,5)) #Three dimensional arr\n",
    "\n",
    "# Printing arr\n",
    "arr"
   ]
  },
  {
   "cell_type": "code",
   "execution_count": 9,
   "id": "05447a87",
   "metadata": {},
   "outputs": [
    {
     "data": {
      "text/plain": [
       "array([ 2,  4,  6,  8, 10, 12, 14, 16, 18, 20, 22, 24, 26, 28, 30, 32, 34,\n",
       "       36, 38, 40, 42, 44, 46, 48, 50, 52, 54, 56, 58, 60, 62, 64, 66, 68,\n",
       "       70, 72, 74, 76, 78, 80, 82, 84, 86, 88, 90, 92, 94, 96, 98])"
      ]
     },
     "execution_count": 9,
     "metadata": {},
     "output_type": "execute_result"
    }
   ],
   "source": [
    "# Arange- creating array  (analogus to range of python)\n",
    "arr = np.arange(20) #creates array 0 to 20\n",
    "arr = np.arange(2, 100, 2) #arange(start, stop, step)\n",
    "arr"
   ]
  },
  {
   "cell_type": "code",
   "execution_count": 10,
   "id": "d144558a",
   "metadata": {},
   "outputs": [
    {
     "data": {
      "text/plain": [
       "array([1.        , 1.05263158, 1.10526316, 1.15789474, 1.21052632,\n",
       "       1.26315789, 1.31578947, 1.36842105, 1.42105263, 1.47368421,\n",
       "       1.52631579, 1.57894737, 1.63157895, 1.68421053, 1.73684211,\n",
       "       1.78947368, 1.84210526, 1.89473684, 1.94736842, 2.        ])"
      ]
     },
     "execution_count": 10,
     "metadata": {},
     "output_type": "execute_result"
    }
   ],
   "source": [
    "# Linspace array\n",
    "arr = np.linspace(1,2,20) #linspace(start , end, how many points between start and end)\n",
    "arr"
   ]
  },
  {
   "cell_type": "markdown",
   "id": "918f3011",
   "metadata": {},
   "source": [
    "## Priniting array"
   ]
  },
  {
   "cell_type": "code",
   "execution_count": 11,
   "id": "de7028e3",
   "metadata": {},
   "outputs": [
    {
     "data": {
      "text/plain": [
       "array([[False, False, False, False, False],\n",
       "       [False, False, False, False, False],\n",
       "       [False,  True,  True,  True,  True],\n",
       "       [ True,  True,  True,  True,  True]])"
      ]
     },
     "execution_count": 11,
     "metadata": {},
     "output_type": "execute_result"
    }
   ],
   "source": [
    "arr = np.arange(20).reshape(4,5)\n",
    "arr\n",
    "arr>10"
   ]
  },
  {
   "cell_type": "markdown",
   "id": "239fe796",
   "metadata": {},
   "source": [
    "## Operations in array"
   ]
  },
  {
   "cell_type": "code",
   "execution_count": 12,
   "id": "489ce566",
   "metadata": {},
   "outputs": [
    {
     "data": {
      "text/plain": [
       "array([ True,  True,  True,  True,  True,  True,  True])"
      ]
     },
     "execution_count": 12,
     "metadata": {},
     "output_type": "execute_result"
    }
   ],
   "source": [
    "a = np.array([1,2,3,4,5,6,7])\n",
    "b = np.array([3,4,5,6,7,8,9,])\n",
    "c=a+b\n",
    "b = b**2\n",
    "c>3"
   ]
  },
  {
   "cell_type": "code",
   "execution_count": 23,
   "id": "23802a60",
   "metadata": {},
   "outputs": [
    {
     "data": {
      "text/plain": [
       "array([[3.51182162, 3.9504637 , 3.14415961, 3.94864945],\n",
       "       [3.31183145, 3.42332645, 3.82770259, 3.40919914],\n",
       "       [3.54959369, 3.02755911, 3.75351311, 3.53814331]])"
      ]
     },
     "execution_count": 23,
     "metadata": {},
     "output_type": "execute_result"
    }
   ],
   "source": [
    "random_instance = np.random.default_rng(1)\n",
    "a = random_instance.random((3,4))\n",
    "a+=3\n",
    "a"
   ]
  },
  {
   "cell_type": "code",
   "execution_count": 28,
   "id": "0b29412c",
   "metadata": {},
   "outputs": [
    {
     "data": {
      "text/plain": [
       "array([[ 7, 10],\n",
       "       [13, 15]])"
      ]
     },
     "execution_count": 28,
     "metadata": {},
     "output_type": "execute_result"
    }
   ],
   "source": [
    "#matrix operations\n",
    "a = np.array([[1,2],[4,3]])\n",
    "b = np.array([[1,0], [3,5]])\n",
    "a*b #element wise product\n",
    "a@b  #Matrix product or dot product\n",
    "a.dot(b)  #Matrix product or dot product"
   ]
  },
  {
   "cell_type": "code",
   "execution_count": null,
   "id": "ac3b7807",
   "metadata": {},
   "outputs": [],
   "source": []
  }
 ],
 "metadata": {
  "kernelspec": {
   "display_name": "Python 3",
   "language": "python",
   "name": "python3"
  },
  "language_info": {
   "codemirror_mode": {
    "name": "ipython",
    "version": 3
   },
   "file_extension": ".py",
   "mimetype": "text/x-python",
   "name": "python",
   "nbconvert_exporter": "python",
   "pygments_lexer": "ipython3",
   "version": "3.8.5"
  }
 },
 "nbformat": 4,
 "nbformat_minor": 5
}
