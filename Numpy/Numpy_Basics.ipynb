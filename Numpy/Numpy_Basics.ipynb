{
 "cells": [
  {
   "cell_type": "markdown",
   "id": "fa1129dd",
   "metadata": {},
   "source": [
    "# Numpy Basic Docs"
   ]
  },
  {
   "cell_type": "markdown",
   "id": "bdae1b4e",
   "metadata": {},
   "source": [
    "### Import Package to use"
   ]
  },
  {
   "cell_type": "code",
   "execution_count": 2,
   "id": "74b84f2d",
   "metadata": {},
   "outputs": [],
   "source": [
    "import numpy as np"
   ]
  },
  {
   "cell_type": "markdown",
   "id": "acd04f77",
   "metadata": {},
   "source": [
    "### Numpy version"
   ]
  },
  {
   "cell_type": "code",
   "execution_count": 2,
   "id": "97f49fb9",
   "metadata": {},
   "outputs": [
    {
     "data": {
      "text/plain": [
       "'1.19.5'"
      ]
     },
     "execution_count": 2,
     "metadata": {},
     "output_type": "execute_result"
    }
   ],
   "source": [
    "np.__version__"
   ]
  },
  {
   "cell_type": "markdown",
   "id": "fe40faf4",
   "metadata": {},
   "source": [
    "## Array in numpy"
   ]
  },
  {
   "cell_type": "code",
   "execution_count": 3,
   "id": "d6756ba4",
   "metadata": {},
   "outputs": [
    {
     "name": "stdout",
     "output_type": "stream",
     "text": [
      "[  12   32 4234 4543]\n"
     ]
    },
    {
     "data": {
      "text/plain": [
       "numpy.ndarray"
      ]
     },
     "execution_count": 3,
     "metadata": {},
     "output_type": "execute_result"
    }
   ],
   "source": [
    "arr = np.array([12,32,4234,4543])\n",
    "print(arr)\n",
    "type(arr)"
   ]
  },
  {
   "cell_type": "markdown",
   "id": "3b2c1ab2",
   "metadata": {},
   "source": [
    "### n-dimensional array"
   ]
  },
  {
   "cell_type": "code",
   "execution_count": 4,
   "id": "7a423742",
   "metadata": {},
   "outputs": [
    {
     "name": "stdout",
     "output_type": "stream",
     "text": [
      "[[[[ 12  32  24 665]]]]\n",
      "Dimension 4\n",
      "Dimension of arr_3 is  3\n"
     ]
    }
   ],
   "source": [
    "a = np.array([12,32,24,665], ndmin=4) #4 dimensional array\n",
    "print(a)\n",
    "print(\"Dimension\",a.ndim) #.ndim is used to see dimension of array\n",
    "\n",
    "arr_3 = np.array([[[12,32], [212,54]]])\n",
    "print(\"Dimension of arr_3 is \", arr_3.ndim)"
   ]
  },
  {
   "cell_type": "markdown",
   "id": "f8dc8d81",
   "metadata": {},
   "source": [
    "## Indexing and slicing of nparray"
   ]
  },
  {
   "cell_type": "code",
   "execution_count": 5,
   "id": "68fcf6f7",
   "metadata": {},
   "outputs": [
    {
     "name": "stdout",
     "output_type": "stream",
     "text": [
      "[  12   32 4234 4543]\n",
      "Indexing\n",
      "12\n",
      "32\n",
      "4234\n",
      "4543\n",
      "The sum is : 44\n",
      "\n",
      "Slicing\n",
      "[  12   32 4234 4543]\n",
      "[12 32]\n",
      "[  12   32 4234 4543]\n",
      "[  12   32 4234 4543]\n",
      "[4543 4234   32   12]\n",
      "[  12 4234]\n"
     ]
    }
   ],
   "source": [
    "# Array indexing and slicing is same as in python arrays\n",
    "print(arr)\n",
    "print(\"Indexing\")\n",
    "print(arr[0])\n",
    "print(arr[1])\n",
    "print(arr[2])\n",
    "print(arr[3])\n",
    "print(\"The sum is :\", arr[0] + arr[1])\n",
    "\n",
    "print(\"\\nSlicing\")\n",
    "print(arr[:])\n",
    "print(arr[0:2])\n",
    "print(arr[0:])\n",
    "print(arr[:4])\n",
    "print(arr[::-1])\n",
    "print(arr[::2])"
   ]
  },
  {
   "cell_type": "code",
   "execution_count": 6,
   "id": "aa9ac4d0",
   "metadata": {},
   "outputs": [
    {
     "name": "stdout",
     "output_type": "stream",
     "text": [
      "[ 0  4 16 36 64]\n",
      "120\n",
      "1\n",
      "120\n",
      "9\n",
      "120\n",
      "25\n",
      "120\n",
      "49\n",
      "120\n",
      "81\n",
      "120\n",
      "121\n",
      "120\n",
      "169\n",
      "120\n",
      "225\n",
      "120\n",
      "289\n",
      "120\n",
      "361\n"
     ]
    }
   ],
   "source": [
    "arr = np.arange(20)**2\n",
    "print(arr[0:10:2])\n",
    "arr[0:20:2] = 120\n",
    "for i in arr:\n",
    "    print(i)"
   ]
  },
  {
   "cell_type": "code",
   "execution_count": 7,
   "id": "45a2a77e",
   "metadata": {},
   "outputs": [
    {
     "name": "stdout",
     "output_type": "stream",
     "text": [
      "Col  [2 5 7]\n",
      "Row [4 5 6]\n",
      "Row [9 7 6]\n"
     ]
    }
   ],
   "source": [
    "# Multi dimensional array slicing\n",
    "arr = np.array([[1,2,3],[4,5,6],[9,7,6]])\n",
    "print(\"Col \" ,arr[:, 1]) #column index 1\n",
    "print(\"Row\",arr[1, :]) #row 1\n",
    "print(\"Row\",arr[-1]) #row last equivalent to \"arr[1, :]\""
   ]
  },
  {
   "cell_type": "code",
   "execution_count": 8,
   "id": "42efdbfb",
   "metadata": {},
   "outputs": [
    {
     "name": "stdout",
     "output_type": "stream",
     "text": [
      "[[1 2 3]\n",
      " [2 4 5]]\n",
      "[[3 4 5]\n",
      " [6 8 7]]\n",
      "\n",
      "\n",
      "\n",
      "1\n",
      "2\n",
      "3\n",
      "2\n",
      "4\n",
      "5\n",
      "3\n",
      "4\n",
      "5\n",
      "6\n",
      "8\n",
      "7\n"
     ]
    }
   ],
   "source": [
    "# 3 dimensional array\n",
    "arr = np.array([[[1,2,3],[2,4,5]],[[3,4,5],[6,8,7]]])\n",
    "for i in arr:\n",
    "    print(i)\n",
    "print(\"\\n\\n\")\n",
    "for i in arr.flat: #Iterate over all elements of array\n",
    "    print(i)"
   ]
  },
  {
   "cell_type": "markdown",
   "id": "811e216b",
   "metadata": {},
   "source": [
    "## More on ndarray"
   ]
  },
  {
   "cell_type": "code",
   "execution_count": 9,
   "id": "c5bf48d8",
   "metadata": {},
   "outputs": [
    {
     "name": "stdout",
     "output_type": "stream",
     "text": [
      "one dimensional array\n",
      "(6,)\n",
      "1\n",
      "6\n",
      "<class 'numpy.ndarray'>\n",
      "int32\n",
      "<class 'numpy.int32'>\n",
      "int32\n",
      "4\n",
      "<memory at 0x000001F373BD3DC0>\n",
      "\n",
      "Two dimensional array\n",
      "(3, 2)\n",
      "2\n",
      "6\n",
      "<class 'numpy.ndarray'>\n",
      "int32\n",
      "<class 'numpy.int32'>\n",
      "4\n",
      "<memory at 0x000001F373C8F6C0>\n"
     ]
    }
   ],
   "source": [
    "foo = np.array([12,33,54,556,73,29]) #one dimensional array\n",
    "print(\"one dimensional array\")\n",
    "print(foo.shape)\n",
    "print(foo.ndim)\n",
    "print(foo.size) \n",
    "print(type(foo))\n",
    "print(foo.dtype)\n",
    "print(foo.dtype.type) #Type of array\n",
    "print(foo.dtype.name)\n",
    "print(foo.itemsize) #Data tyooe size of array\n",
    "print(foo.data)\n",
    "\n",
    "\n",
    "# Two dimensional array\n",
    "print(\"\\nTwo dimensional array\")\n",
    "foo2 = np.array([[12,32],[121,322],[123,54]])\n",
    "print(foo2.shape)\n",
    "print(foo2.ndim)\n",
    "print(foo2.size) \n",
    "print(type(foo2))\n",
    "print(foo2.dtype)\n",
    "print(foo2.dtype.type) #Type of array\n",
    "print(foo2.itemsize) #Data tyooe size of array\n",
    "print(foo2.data)"
   ]
  },
  {
   "cell_type": "markdown",
   "id": "17425635",
   "metadata": {},
   "source": [
    "## Creation of ndarray"
   ]
  },
  {
   "cell_type": "code",
   "execution_count": 10,
   "id": "39da0a0c",
   "metadata": {},
   "outputs": [
    {
     "data": {
      "text/plain": [
       "array([1., 2., 3., 4., 5.])"
      ]
     },
     "execution_count": 10,
     "metadata": {},
     "output_type": "execute_result"
    }
   ],
   "source": [
    "arr = np.array([1,2,3,4,5], dtype=float) #Dtype defines the type of array\n",
    "arr.dtype #Datatype of an array\n",
    "arr "
   ]
  },
  {
   "cell_type": "code",
   "execution_count": 11,
   "id": "f3774afb",
   "metadata": {},
   "outputs": [
    {
     "data": {
      "text/plain": [
       "array([[[1., 1., 1., 1., 1.],\n",
       "        [1., 1., 1., 1., 1.]],\n",
       "\n",
       "       [[1., 1., 1., 1., 1.],\n",
       "        [1., 1., 1., 1., 1.]]])"
      ]
     },
     "execution_count": 11,
     "metadata": {},
     "output_type": "execute_result"
    }
   ],
   "source": [
    "# Zeros array \n",
    "arr = np.zeros(5) #Creates array with given shape and initializes elaments with float 0\n",
    "arr = np.zeros((2,2)) #Two dimensional array\n",
    "arr = np.zeros((2,2,5)) #Three dimensional arr\n",
    "\n",
    "# Ones array\n",
    "arr = np.ones(5) #Creates array with given shape and initializes elaments with float 1\n",
    "arr = np.ones((2,2)) #Two dimensional array\n",
    "arr = np.ones((2,2,5)) #Three dimensional arr\n",
    "\n",
    "# Empty arrays\n",
    "arr = np.empty(5) #Creates array with given shape and initializes elaments with garbage value\n",
    "arr = np.empty((2,2)) #Two dimensional array\n",
    "arr = np.empty((2,2,5)) #Three dimensional arr\n",
    "\n",
    "# Printing arr\n",
    "arr"
   ]
  },
  {
   "cell_type": "code",
   "execution_count": 35,
   "id": "52fb9728",
   "metadata": {},
   "outputs": [
    {
     "data": {
      "text/plain": [
       "array([[1., 0., 0., 0., 0.],\n",
       "       [0., 1., 0., 0., 0.],\n",
       "       [0., 0., 1., 0., 0.],\n",
       "       [0., 0., 0., 1., 0.]])"
      ]
     },
     "execution_count": 35,
     "metadata": {},
     "output_type": "execute_result"
    }
   ],
   "source": [
    "arr = np.eye(4,5) #returns array with diagonal element = 1\n",
    "arr"
   ]
  },
  {
   "cell_type": "code",
   "execution_count": 12,
   "id": "802ef7f1",
   "metadata": {},
   "outputs": [
    {
     "data": {
      "text/plain": [
       "array([ 2,  4,  6,  8, 10, 12, 14, 16, 18, 20, 22, 24, 26, 28, 30, 32, 34,\n",
       "       36, 38, 40, 42, 44, 46, 48, 50, 52, 54, 56, 58, 60, 62, 64, 66, 68,\n",
       "       70, 72, 74, 76, 78, 80, 82, 84, 86, 88, 90, 92, 94, 96, 98])"
      ]
     },
     "execution_count": 12,
     "metadata": {},
     "output_type": "execute_result"
    }
   ],
   "source": [
    "# Arange- creating array  (analogus to range of python)\n",
    "arr = np.arange(20) #creates array 0 to 20\n",
    "arr = np.arange(2, 100, 2) #arange(start, stop, step)\n",
    "arr"
   ]
  },
  {
   "cell_type": "code",
   "execution_count": 13,
   "id": "d38ee072",
   "metadata": {},
   "outputs": [
    {
     "data": {
      "text/plain": [
       "array([1.        , 1.05263158, 1.10526316, 1.15789474, 1.21052632,\n",
       "       1.26315789, 1.31578947, 1.36842105, 1.42105263, 1.47368421,\n",
       "       1.52631579, 1.57894737, 1.63157895, 1.68421053, 1.73684211,\n",
       "       1.78947368, 1.84210526, 1.89473684, 1.94736842, 2.        ])"
      ]
     },
     "execution_count": 13,
     "metadata": {},
     "output_type": "execute_result"
    }
   ],
   "source": [
    "# Linspace array\n",
    "arr = np.linspace(1,2,20) #linspace(start , end, how many points between start and end)\n",
    "arr"
   ]
  },
  {
   "cell_type": "markdown",
   "id": "3b9ab3f2",
   "metadata": {},
   "source": [
    "## Priniting array"
   ]
  },
  {
   "cell_type": "code",
   "execution_count": 14,
   "id": "36613f45",
   "metadata": {},
   "outputs": [
    {
     "name": "stdout",
     "output_type": "stream",
     "text": [
      "[[1 2 3 4 5]\n",
      " [6 0 0 0 0]\n",
      " [0 0 0 0 0]\n",
      " [0 0 0 0 0]\n",
      " [0 0 0 0 0]\n",
      " [0 0 0 0 0]]\n"
     ]
    },
    {
     "data": {
      "text/plain": [
       "30"
      ]
     },
     "execution_count": 14,
     "metadata": {},
     "output_type": "execute_result"
    }
   ],
   "source": [
    "arr = np.arange(20).reshape(4,5)\n",
    "arr\n",
    "arr>10\n",
    "\n",
    "# Resizing array\n",
    "a = np.array([[1,2,3],[4,5,6]])\n",
    "a.size\n",
    "a.resize((6,5))\n",
    "print(a)\n",
    "a.size"
   ]
  },
  {
   "cell_type": "markdown",
   "id": "52a0c257",
   "metadata": {},
   "source": [
    "## Operations in array"
   ]
  },
  {
   "cell_type": "code",
   "execution_count": 15,
   "id": "848288f9",
   "metadata": {},
   "outputs": [
    {
     "name": "stdout",
     "output_type": "stream",
     "text": [
      "[ True  True  True  True  True  True  True]\n",
      "28\n",
      "1\n",
      "7\n"
     ]
    }
   ],
   "source": [
    "a = np.array([1,2,3,4,5,6,7])\n",
    "b = np.array([3,4,5,6,7,8,9,])\n",
    "c=a+b\n",
    "b = b**2\n",
    "print(c>3)\n",
    "print(a.sum())\n",
    "print(a.min())\n",
    "print(a.max())"
   ]
  },
  {
   "cell_type": "code",
   "execution_count": 16,
   "id": "58ac4768",
   "metadata": {},
   "outputs": [
    {
     "data": {
      "text/plain": [
       "array([[3.51182162, 3.9504637 , 3.14415961, 3.94864945],\n",
       "       [3.31183145, 3.42332645, 3.82770259, 3.40919914],\n",
       "       [3.54959369, 3.02755911, 3.75351311, 3.53814331]])"
      ]
     },
     "execution_count": 16,
     "metadata": {},
     "output_type": "execute_result"
    }
   ],
   "source": [
    "random_instance = np.random.default_rng(1)\n",
    "a = random_instance.random((3,4))\n",
    "a+=3\n",
    "a"
   ]
  },
  {
   "cell_type": "code",
   "execution_count": 17,
   "id": "dc0835db",
   "metadata": {},
   "outputs": [
    {
     "data": {
      "text/plain": [
       "array([[ 7, 10],\n",
       "       [13, 15]])"
      ]
     },
     "execution_count": 17,
     "metadata": {},
     "output_type": "execute_result"
    }
   ],
   "source": [
    "#matrix operations\n",
    "a = np.array([[1,2],[4,3]])\n",
    "b = np.array([[1,0], [3,5]])\n",
    "a*b #element wise product\n",
    "a@b  #Matrix product or dot product\n",
    "a.dot(b)  #Matrix product or dot product"
   ]
  },
  {
   "cell_type": "code",
   "execution_count": 18,
   "id": "129067bd",
   "metadata": {},
   "outputs": [
    {
     "data": {
      "text/plain": [
       "array([[ 1,  3,  7],\n",
       "       [ 3,  8, 12],\n",
       "       [12, 16, 19]], dtype=int32)"
      ]
     },
     "execution_count": 18,
     "metadata": {},
     "output_type": "execute_result"
    }
   ],
   "source": [
    "# some array builtin\n",
    "arr = np.array([[1,2,4],[3,5,4],[12,4,3]])\n",
    "arr.sum(axis=0) #sum of all columns\n",
    "arr.sum(axis=1) #sum of all rows\n",
    "arr.cumsum(axis=1) #Cumulative sum of each row"
   ]
  },
  {
   "cell_type": "code",
   "execution_count": 19,
   "id": "9c4a7e8e",
   "metadata": {},
   "outputs": [
    {
     "name": "stdout",
     "output_type": "stream",
     "text": [
      "[0.         1.         1.41421356]\n",
      "[1.         2.71828183 7.3890561 ]\n",
      "[1. 2. 3.]\n"
     ]
    }
   ],
   "source": [
    "# Universal functions\n",
    "a = np.arange(3)\n",
    "b = np.ones(3)\n",
    "print(np.sqrt(a))\n",
    "print(np.exp(a))\n",
    "print(np.add(a,b))"
   ]
  },
  {
   "cell_type": "code",
   "execution_count": 20,
   "id": "2a2748d8",
   "metadata": {},
   "outputs": [
    {
     "data": {
      "text/plain": [
       "array([[3., 4., 4.],\n",
       "       [7., 2., 9.],\n",
       "       [3., 2., 9.],\n",
       "       [4., 7., 7.],\n",
       "       [1., 2., 5.]])"
      ]
     },
     "execution_count": 20,
     "metadata": {},
     "output_type": "execute_result"
    }
   ],
   "source": [
    "a = np.floor(10 * random_instance.random((3,5)))\n",
    "a.shape\n",
    "a.ravel() #returns flattented array\n",
    "a.T #Transposed array"
   ]
  },
  {
   "cell_type": "markdown",
   "id": "615b998c",
   "metadata": {},
   "source": [
    "## Stacking arrays along different axis"
   ]
  },
  {
   "cell_type": "code",
   "execution_count": 21,
   "id": "1549493a",
   "metadata": {},
   "outputs": [
    {
     "name": "stdout",
     "output_type": "stream",
     "text": [
      "[[ 1  2 11  5]\n",
      " [ 3  4  9  3]]\n",
      "\n",
      "\n",
      "[[ 1  2]\n",
      " [ 3  4]\n",
      " [11  5]\n",
      " [ 9  3]]\n"
     ]
    }
   ],
   "source": [
    "a = np.array([[1,2],[3,4]])\n",
    "b = np.array([[11,5],[9,3]])\n",
    "print(np.hstack((a,b))) #Horizontal stacking\n",
    "print(\"\\n\")\n",
    "print(np.vstack((a,b))) # Vertical stacking"
   ]
  },
  {
   "cell_type": "code",
   "execution_count": 22,
   "id": "98476754",
   "metadata": {},
   "outputs": [
    {
     "data": {
      "text/plain": [
       "array([[1, 4],\n",
       "       [2, 5],\n",
       "       [3, 6]])"
      ]
     },
     "execution_count": 22,
     "metadata": {},
     "output_type": "execute_result"
    }
   ],
   "source": [
    "np.column_stack((a,b)) #same as hstack but used with two one dimensional array returns two dimensional array\n",
    "# We have row_stack too...\n",
    "a = np.array([1,2,3])\n",
    "b = np.array([4,5,6])\n",
    "np.column_stack((a,b))"
   ]
  },
  {
   "cell_type": "code",
   "execution_count": 23,
   "id": "9f143555",
   "metadata": {},
   "outputs": [
    {
     "name": "stdout",
     "output_type": "stream",
     "text": [
      "[[1]\n",
      " [2]\n",
      " [3]]\n",
      "\n",
      "\n",
      "\n",
      "[[1 2 3]]\n"
     ]
    }
   ],
   "source": [
    "# Newaxis view 1D array as 2D array\n",
    "a\n",
    "print(a[:, np.newaxis]) #converts into vertical 2D array i.e 2 dimensional column vector\n",
    "print(\"\\n\\n\")\n",
    "print(a[ np.newaxis, :]) #converts into horizontal 2D array i.e 2 dimensional row vector"
   ]
  },
  {
   "cell_type": "code",
   "execution_count": 24,
   "id": "bf6bd603",
   "metadata": {},
   "outputs": [
    {
     "data": {
      "text/plain": [
       "array([ 1,  2,  3,  4,  5,  6, 10,  6])"
      ]
     },
     "execution_count": 24,
     "metadata": {},
     "output_type": "execute_result"
    }
   ],
   "source": [
    "np.r_[1:7, 10, 6] #create array with ranging elements inside it"
   ]
  },
  {
   "cell_type": "markdown",
   "id": "039eb602",
   "metadata": {},
   "source": [
    "## spliting array into multiple sub arrays"
   ]
  },
  {
   "cell_type": "code",
   "execution_count": 25,
   "id": "b68eb7a5",
   "metadata": {},
   "outputs": [
    {
     "name": "stdout",
     "output_type": "stream",
     "text": [
      "hsplit array  [array([0, 1, 2, 3]), array([4, 5, 6, 7]), array([ 8,  9, 10, 11]), array([12, 13, 14, 15]), array([16, 17, 18, 19])] \n",
      "\n",
      "hsplit array  [array([0, 1, 2, 3, 4]), array([], dtype=int32), array([ 4,  5,  6,  7,  8,  9, 10, 11, 12, 13, 14, 15, 16, 17, 18, 19])] \n",
      "\n",
      "[[ 0  1  2  3  4]\n",
      " [ 5  6  7  8  9]\n",
      " [10 11 12 13 14]\n",
      " [15 16 17 18 19]]\n"
     ]
    },
    {
     "data": {
      "text/plain": [
       "[array([[0, 1, 2, 3, 4],\n",
       "        [5, 6, 7, 8, 9]]),\n",
       " array([[10, 11, 12, 13, 14],\n",
       "        [15, 16, 17, 18, 19]])]"
      ]
     },
     "execution_count": 25,
     "metadata": {},
     "output_type": "execute_result"
    }
   ],
   "source": [
    "arr = np.arange(0,20)\n",
    "print(\"hsplit array \",np.hsplit(arr,5) , \"\\n\") #Splits horizontally into 5 sub-arrays each contains 20/5 =4 elements\n",
    "print(\"hsplit array \",np.hsplit(arr, (5,4)) , \"\\n\")\n",
    "# print(np.vsplit(arr,5)) #Doesnt works on 1D arrays\n",
    "\n",
    "# Creating 2D array\n",
    "a = np.arange(20).reshape((4,5))\n",
    "print(a)\n",
    "np.vsplit(a,2) \n",
    "# np.hsplit(a,4)"
   ]
  },
  {
   "cell_type": "code",
   "execution_count": 26,
   "id": "bb899535",
   "metadata": {},
   "outputs": [
    {
     "data": {
      "text/plain": [
       "[array([[0, 1, 2, 3, 4]]),\n",
       " array([[5, 6, 7, 8, 9]]),\n",
       " array([[10, 11, 12, 13, 14]]),\n",
       " array([[15, 16, 17, 18, 19]])]"
      ]
     },
     "execution_count": 26,
     "metadata": {},
     "output_type": "execute_result"
    }
   ],
   "source": [
    "np.split(arr,4)\n",
    "np.split(a,4)"
   ]
  },
  {
   "cell_type": "markdown",
   "id": "a2af7da3",
   "metadata": {},
   "source": [
    "## Copies and more"
   ]
  },
  {
   "cell_type": "code",
   "execution_count": 27,
   "id": "821f25a3",
   "metadata": {},
   "outputs": [
    {
     "data": {
      "text/plain": [
       "True"
      ]
     },
     "execution_count": 27,
     "metadata": {},
     "output_type": "execute_result"
    }
   ],
   "source": [
    "# cases whether its copy or not\n",
    "# case 1 : Not a copy\n",
    "a = np.arange(10)\n",
    "b =a \n",
    "b is a #B is not a copy of a b represents a its like a pointer to a\n",
    "b.flags.owndata #This will return true"
   ]
  },
  {
   "cell_type": "code",
   "execution_count": 28,
   "id": "2b27b330",
   "metadata": {},
   "outputs": [
    {
     "name": "stdout",
     "output_type": "stream",
     "text": [
      "2145131591840\n",
      "2145131591840\n"
     ]
    }
   ],
   "source": [
    "# case 2:not a copy \n",
    "def f(x):\n",
    "    print(id(x)) \n",
    "\n",
    "print(id(a))\n",
    "f(a) #this function doesnt make a copy of given parameter i.e in python function calls makes no copy it passes mutable object as references"
   ]
  },
  {
   "cell_type": "code",
   "execution_count": 29,
   "id": "49fa2c9d",
   "metadata": {},
   "outputs": [
    {
     "data": {
      "text/plain": [
       "True"
      ]
     },
     "execution_count": 29,
     "metadata": {},
     "output_type": "execute_result"
    }
   ],
   "source": [
    "# cases : yes makes copy\n",
    "c = a.view() #this creates new object and shares same data as of a\n",
    "c is a #will return false\n",
    "c.flags.owndata #This will also returns false\n",
    "c.reshape((5,2)) #this will not change shape of a because its copy of that data\n",
    "a.shape \n",
    "c.base is a #returns true because it shares data with a i.e both represents same data "
   ]
  },
  {
   "cell_type": "code",
   "execution_count": 30,
   "id": "73d34862",
   "metadata": {},
   "outputs": [
    {
     "name": "stdout",
     "output_type": "stream",
     "text": [
      "[[ 0  1  2  3  4]\n",
      " [ 5  6  7  8  9]\n",
      " [10 11 12 13 14]\n",
      " [15 16 17 18 19]]\n"
     ]
    },
    {
     "data": {
      "text/plain": [
       "array([[ 0, 20, 20,  3,  4],\n",
       "       [ 5, 20, 20,  8,  9],\n",
       "       [10, 20, 20, 13, 14],\n",
       "       [15, 20, 20, 18, 19]])"
      ]
     },
     "execution_count": 30,
     "metadata": {},
     "output_type": "execute_result"
    }
   ],
   "source": [
    "# slicing a array returns its view\n",
    "a = np.arange(20).reshape((4,5))\n",
    "print(a)\n",
    "b = a[:, 1:3]\n",
    "b[:] = 20\n",
    "b\n",
    "a #a changes"
   ]
  },
  {
   "cell_type": "code",
   "execution_count": 31,
   "id": "c6998ebb",
   "metadata": {},
   "outputs": [
    {
     "name": "stdout",
     "output_type": "stream",
     "text": [
      "50\n",
      "20\n"
     ]
    }
   ],
   "source": [
    "# Copy makes a complete copy of array with its data\n",
    "d =a.copy()\n",
    "d is a\n",
    "d.base is a\n",
    "d[0,2] = 50 #doesnt chane value in array 'a'\n",
    "print(d[0,2])\n",
    "print(a[0,2])"
   ]
  },
  {
   "cell_type": "code",
   "execution_count": 32,
   "id": "1092feff",
   "metadata": {},
   "outputs": [],
   "source": [
    "a = np.arange(int(1e8)) #this is huge array so copy chould call before slicing if a in not gettting used later that will help in memory usage \n",
    "b= a[:100].copy()\n",
    "b\n",
    "del a \n",
    "# a #error will occur a is not defined"
   ]
  },
  {
   "cell_type": "markdown",
   "id": "a4bb5868",
   "metadata": {},
   "source": [
    "## Advance indexing"
   ]
  },
  {
   "cell_type": "code",
   "execution_count": 10,
   "id": "e0d98274",
   "metadata": {},
   "outputs": [
    {
     "data": {
      "text/plain": [
       "array([[2, 3, 5],\n",
       "       [6, 9, 8],\n",
       "       [1, 2, 3],\n",
       "       [6, 9, 8]])"
      ]
     },
     "execution_count": 10,
     "metadata": {},
     "output_type": "execute_result"
    }
   ],
   "source": [
    "arr= np.array([[1,2,3],\n",
    "              [2,3,5],\n",
    "              [6,9,8]])\n",
    "i = np.array([1,2,0,2])\n",
    "arr[i]"
   ]
  },
  {
   "cell_type": "code",
   "execution_count": 19,
   "id": "f3a56189",
   "metadata": {},
   "outputs": [
    {
     "name": "stdout",
     "output_type": "stream",
     "text": [
      "[[False False False]\n",
      " [False False False]\n",
      " [False False False]]\n",
      "The array sliced using bool array  []\n"
     ]
    },
    {
     "data": {
      "text/plain": [
       "array([[1, 2, 3],\n",
       "       [2, 3, 0],\n",
       "       [0, 0, 0]])"
      ]
     },
     "execution_count": 19,
     "metadata": {},
     "output_type": "execute_result"
    }
   ],
   "source": [
    "arr\n",
    "b =arr >4\n",
    "print(b)\n",
    "print(\"The array sliced using bool array \",arr[b])\n",
    "arr[b] = 0\n",
    "arr"
   ]
  },
  {
   "cell_type": "markdown",
   "id": "15ece1c5",
   "metadata": {},
   "source": [
    "## automatic reshaping"
   ]
  },
  {
   "cell_type": "code",
   "execution_count": 31,
   "id": "7ee25011",
   "metadata": {},
   "outputs": [
    {
     "name": "stdout",
     "output_type": "stream",
     "text": [
      "(2, 5, 3)\n"
     ]
    },
    {
     "data": {
      "text/plain": [
       "array([[[ 0,  1,  2],\n",
       "        [ 3,  4,  5],\n",
       "        [ 6,  7,  8],\n",
       "        [ 9, 10, 11],\n",
       "        [12, 13, 14]],\n",
       "\n",
       "       [[15, 16, 17],\n",
       "        [18, 19, 20],\n",
       "        [21, 22, 23],\n",
       "        [24, 25, 26],\n",
       "        [27, 28, 29]]])"
      ]
     },
     "execution_count": 31,
     "metadata": {},
     "output_type": "execute_result"
    }
   ],
   "source": [
    "a= np.arange(30)\n",
    "b = a.reshape((2,-1,3))\n",
    "print(b.shape)\n",
    "b"
   ]
  },
  {
   "cell_type": "markdown",
   "id": "825f2312",
   "metadata": {},
   "source": [
    "## Vector stacking"
   ]
  },
  {
   "cell_type": "code",
   "execution_count": 36,
   "id": "69bd648a",
   "metadata": {},
   "outputs": [
    {
     "data": {
      "text/plain": [
       "array([[1, 1],\n",
       "       [2, 2],\n",
       "       [3, 6],\n",
       "       [4, 4]])"
      ]
     },
     "execution_count": 36,
     "metadata": {},
     "output_type": "execute_result"
    }
   ],
   "source": [
    "a = np.array([1,2,3,4])\n",
    "b = np.array([1,2,6,4])\n",
    "np.vstack((a,b))\n",
    "np.hstack((a,b))\n",
    "np.column_stack((a,b))"
   ]
  },
  {
   "cell_type": "markdown",
   "id": "1e118aa6",
   "metadata": {},
   "source": [
    "## More about basic numpy\n",
    "\n",
    "https://numpy.org/devdocs/user/absolute_beginners.html \n",
    "\n",
    "\n",
    "https://numpy.org/devdocs/user/quickstart.html"
   ]
  },
  {
   "cell_type": "code",
   "execution_count": null,
   "id": "c5f61a8e",
   "metadata": {},
   "outputs": [],
   "source": []
  }
 ],
 "metadata": {
  "kernelspec": {
   "display_name": "Python 3",
   "language": "python",
   "name": "python3"
  },
  "language_info": {
   "codemirror_mode": {
    "name": "ipython",
    "version": 3
   },
   "file_extension": ".py",
   "mimetype": "text/x-python",
   "name": "python",
   "nbconvert_exporter": "python",
   "pygments_lexer": "ipython3",
   "version": "3.8.5"
  }
 },
 "nbformat": 4,
 "nbformat_minor": 5
}
